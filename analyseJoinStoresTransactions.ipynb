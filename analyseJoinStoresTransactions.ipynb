{
 "cells": [
  {
   "cell_type": "markdown",
   "id": "383546e0",
   "metadata": {},
   "source": [
    "# Analyse Stores in Transactions"
   ]
  },
  {
   "cell_type": "code",
   "execution_count": 1,
   "id": "4fecb778",
   "metadata": {},
   "outputs": [],
   "source": [
    "import pandas as pd\n",
    "\n",
    "stores = pd.read_csv(\"data/stores.csv\")\n",
    "transactions = pd.read_parquet(\"data/transactions_train_1.parquet\")\n"
   ]
  },
  {
   "cell_type": "code",
   "execution_count": null,
   "id": "cdba1820",
   "metadata": {},
   "outputs": [
    {
     "name": "stdout",
     "output_type": "stream",
     "text": [
      "Index(['id', 'opening_date', 'location', 'state', 'urbanization',\n",
      "       'sco_introduction'],\n",
      "      dtype='object')\n"
     ]
    }
   ],
   "source": [
    "\n",
    "print(stores.columns) "
   ]
  },
  {
   "cell_type": "code",
   "execution_count": 3,
   "id": "078be848",
   "metadata": {},
   "outputs": [
    {
     "name": "stdout",
     "output_type": "stream",
     "text": [
      "🔹 Erste Zeilen des Datensatzes:\n"
     ]
    },
    {
     "data": {
      "text/html": [
       "<div>\n",
       "<style scoped>\n",
       "    .dataframe tbody tr th:only-of-type {\n",
       "        vertical-align: middle;\n",
       "    }\n",
       "\n",
       "    .dataframe tbody tr th {\n",
       "        vertical-align: top;\n",
       "    }\n",
       "\n",
       "    .dataframe thead th {\n",
       "        text-align: right;\n",
       "    }\n",
       "</style>\n",
       "<table border=\"1\" class=\"dataframe\">\n",
       "  <thead>\n",
       "    <tr style=\"text-align: right;\">\n",
       "      <th></th>\n",
       "      <th>id</th>\n",
       "      <th>store_id</th>\n",
       "      <th>cash_desk</th>\n",
       "      <th>transaction_start</th>\n",
       "      <th>transaction_end</th>\n",
       "      <th>total_amount</th>\n",
       "      <th>n_lines</th>\n",
       "      <th>payment_medium</th>\n",
       "      <th>customer_feedback</th>\n",
       "      <th>damage</th>\n",
       "      <th>label</th>\n",
       "    </tr>\n",
       "  </thead>\n",
       "  <tbody>\n",
       "    <tr>\n",
       "      <th>0</th>\n",
       "      <td>5bedf771-f016-41a7-ab89-f40e7f6be955</td>\n",
       "      <td>b0973ffa-ce15-41e0-9de7-1390598e24f2</td>\n",
       "      <td>0</td>\n",
       "      <td>2022-02-02 08:00:12</td>\n",
       "      <td>2022-02-02 08:01:02.825563</td>\n",
       "      <td>52.26</td>\n",
       "      <td>6</td>\n",
       "      <td>CREDIT_CARD</td>\n",
       "      <td>NaN</td>\n",
       "      <td>NaN</td>\n",
       "      <td>UNKNOWN</td>\n",
       "    </tr>\n",
       "    <tr>\n",
       "      <th>1</th>\n",
       "      <td>21ff1406-dbc4-41a7-8429-836cbf96d853</td>\n",
       "      <td>b0973ffa-ce15-41e0-9de7-1390598e24f2</td>\n",
       "      <td>1</td>\n",
       "      <td>2022-02-02 08:05:06</td>\n",
       "      <td>2022-02-02 08:05:30.565876</td>\n",
       "      <td>1.47</td>\n",
       "      <td>1</td>\n",
       "      <td>CREDIT_CARD</td>\n",
       "      <td>NaN</td>\n",
       "      <td>NaN</td>\n",
       "      <td>UNKNOWN</td>\n",
       "    </tr>\n",
       "    <tr>\n",
       "      <th>2</th>\n",
       "      <td>b642f9b6-43b5-413d-ad08-b4bf4b664b52</td>\n",
       "      <td>b0973ffa-ce15-41e0-9de7-1390598e24f2</td>\n",
       "      <td>2</td>\n",
       "      <td>2022-02-02 08:07:12</td>\n",
       "      <td>2022-02-02 08:11:29.434607</td>\n",
       "      <td>363.87</td>\n",
       "      <td>37</td>\n",
       "      <td>CREDIT_CARD</td>\n",
       "      <td>NaN</td>\n",
       "      <td>0.0</td>\n",
       "      <td>NORMAL</td>\n",
       "    </tr>\n",
       "    <tr>\n",
       "      <th>3</th>\n",
       "      <td>16aa01c9-9678-4c6d-a007-baa3429b9fb8</td>\n",
       "      <td>b0973ffa-ce15-41e0-9de7-1390598e24f2</td>\n",
       "      <td>3</td>\n",
       "      <td>2022-02-02 08:11:45</td>\n",
       "      <td>2022-02-02 08:12:07.881710</td>\n",
       "      <td>3.43</td>\n",
       "      <td>1</td>\n",
       "      <td>CREDIT_CARD</td>\n",
       "      <td>NaN</td>\n",
       "      <td>NaN</td>\n",
       "      <td>UNKNOWN</td>\n",
       "    </tr>\n",
       "    <tr>\n",
       "      <th>4</th>\n",
       "      <td>0add22e5-6794-4e95-9d25-a1cd6b6cd083</td>\n",
       "      <td>b0973ffa-ce15-41e0-9de7-1390598e24f2</td>\n",
       "      <td>0</td>\n",
       "      <td>2022-02-02 08:15:15</td>\n",
       "      <td>2022-02-02 08:19:30.611551</td>\n",
       "      <td>441.40</td>\n",
       "      <td>47</td>\n",
       "      <td>CREDIT_CARD</td>\n",
       "      <td>NaN</td>\n",
       "      <td>NaN</td>\n",
       "      <td>UNKNOWN</td>\n",
       "    </tr>\n",
       "  </tbody>\n",
       "</table>\n",
       "</div>"
      ],
      "text/plain": [
       "                                     id                              store_id  \\\n",
       "0  5bedf771-f016-41a7-ab89-f40e7f6be955  b0973ffa-ce15-41e0-9de7-1390598e24f2   \n",
       "1  21ff1406-dbc4-41a7-8429-836cbf96d853  b0973ffa-ce15-41e0-9de7-1390598e24f2   \n",
       "2  b642f9b6-43b5-413d-ad08-b4bf4b664b52  b0973ffa-ce15-41e0-9de7-1390598e24f2   \n",
       "3  16aa01c9-9678-4c6d-a007-baa3429b9fb8  b0973ffa-ce15-41e0-9de7-1390598e24f2   \n",
       "4  0add22e5-6794-4e95-9d25-a1cd6b6cd083  b0973ffa-ce15-41e0-9de7-1390598e24f2   \n",
       "\n",
       "   cash_desk   transaction_start            transaction_end  total_amount  \\\n",
       "0          0 2022-02-02 08:00:12 2022-02-02 08:01:02.825563         52.26   \n",
       "1          1 2022-02-02 08:05:06 2022-02-02 08:05:30.565876          1.47   \n",
       "2          2 2022-02-02 08:07:12 2022-02-02 08:11:29.434607        363.87   \n",
       "3          3 2022-02-02 08:11:45 2022-02-02 08:12:07.881710          3.43   \n",
       "4          0 2022-02-02 08:15:15 2022-02-02 08:19:30.611551        441.40   \n",
       "\n",
       "   n_lines payment_medium  customer_feedback  damage    label  \n",
       "0        6    CREDIT_CARD                NaN     NaN  UNKNOWN  \n",
       "1        1    CREDIT_CARD                NaN     NaN  UNKNOWN  \n",
       "2       37    CREDIT_CARD                NaN     0.0   NORMAL  \n",
       "3        1    CREDIT_CARD                NaN     NaN  UNKNOWN  \n",
       "4       47    CREDIT_CARD                NaN     NaN  UNKNOWN  "
      ]
     },
     "metadata": {},
     "output_type": "display_data"
    }
   ],
   "source": [
    "print(\"🔹 Erste Zeilen des Datensatzes:\")\n",
    "display(transactions.head())"
   ]
  },
  {
   "cell_type": "code",
   "execution_count": 4,
   "id": "62fc4577",
   "metadata": {},
   "outputs": [
    {
     "name": "stdout",
     "output_type": "stream",
     "text": [
      "Index(['id', 'store_id', 'cash_desk', 'transaction_start', 'transaction_end',\n",
      "       'total_amount', 'n_lines', 'payment_medium', 'customer_feedback',\n",
      "       'damage', 'label'],\n",
      "      dtype='object')\n"
     ]
    }
   ],
   "source": [
    "\n",
    "print(transactions.columns)"
   ]
  },
  {
   "cell_type": "markdown",
   "id": "5f8aa158",
   "metadata": {},
   "source": [
    "## Join stores und transactions"
   ]
  },
  {
   "cell_type": "markdown",
   "id": "85fb781e",
   "metadata": {},
   "source": [
    "Schlüsselattributs zur besseren Lesbarkeit umbenennen"
   ]
  },
  {
   "cell_type": "code",
   "execution_count": 5,
   "id": "5c9c971b",
   "metadata": {},
   "outputs": [],
   "source": [
    "stores.rename(columns={\"id\": \"store_id\"}, inplace=True)"
   ]
  },
  {
   "cell_type": "markdown",
   "id": "ba68b528",
   "metadata": {},
   "source": [
    "Join"
   ]
  },
  {
   "cell_type": "code",
   "execution_count": 6,
   "id": "15122f21",
   "metadata": {},
   "outputs": [],
   "source": [
    "joined_df = transactions.merge(stores, on=\"store_id\", how=\"left\")"
   ]
  },
  {
   "cell_type": "markdown",
   "id": "1c1989f0",
   "metadata": {},
   "source": [
    "Welche Stores tauchen tatsächlich in Transaktionen auf?"
   ]
  },
  {
   "cell_type": "code",
   "execution_count": 7,
   "id": "ef0add5d",
   "metadata": {},
   "outputs": [
    {
     "name": "stdout",
     "output_type": "stream",
     "text": [
      "Anzahl Stores mit Transaktionen: 3\n"
     ]
    }
   ],
   "source": [
    "# Alle Store-IDs mit mindestens einer Transaktion\n",
    "stores_with_tx = transactions[\"store_id\"].unique()\n",
    "\n",
    "# Anzahl der betroffenen Stores\n",
    "print(f\"Anzahl Stores mit Transaktionen: {len(stores_with_tx)}\")\n"
   ]
  },
  {
   "cell_type": "markdown",
   "id": "5f319d83",
   "metadata": {},
   "source": [
    "Plausibilität prüfen"
   ]
  },
  {
   "cell_type": "code",
   "execution_count": 8,
   "id": "45e0e8d1",
   "metadata": {},
   "outputs": [
    {
     "name": "stdout",
     "output_type": "stream",
     "text": [
      "Anzahl Stores ohne Transaktionen: 15\n"
     ]
    }
   ],
   "source": [
    "# Stores ohne Transaktionen herausfiltern\n",
    "stores_without_tx = stores[~stores[\"store_id\"].isin(stores_with_tx)]\n",
    "\n",
    "# Anzahl der betroffenen Stores\n",
    "print(f\"Anzahl Stores ohne Transaktionen: {len(stores_without_tx)}\")"
   ]
  },
  {
   "cell_type": "markdown",
   "id": "cce022f3",
   "metadata": {},
   "source": [
    "Betreffende Stores anzeigen"
   ]
  },
  {
   "cell_type": "code",
   "execution_count": 9,
   "id": "0f715255",
   "metadata": {},
   "outputs": [
    {
     "name": "stdout",
     "output_type": "stream",
     "text": [
      "                               store_id opening_date location\n",
      "2  b0973ffa-ce15-41e0-9de7-1390598e24f2   2005-06-02   Berlin\n",
      "4  d3892a9e-8cbc-4237-be9c-211435dc92c0   2003-02-10  München\n",
      "9  ed996b17-17d6-47e8-9262-d1d02b52cdb4   1994-09-19  München\n"
     ]
    }
   ],
   "source": [
    "# Auswahl der gewünschten Spalten aus den betroffenen Stores\n",
    "store_info = stores[stores[\"store_id\"].isin(stores_with_tx)][[\"store_id\", \"opening_date\", \"location\"]]\n",
    "\n",
    "print(store_info)"
   ]
  },
  {
   "cell_type": "markdown",
   "id": "66c803a6",
   "metadata": {},
   "source": [
    "Transactions ohne Store?"
   ]
  },
  {
   "cell_type": "code",
   "execution_count": 10,
   "id": "07ee3748",
   "metadata": {},
   "outputs": [
    {
     "name": "stdout",
     "output_type": "stream",
     "text": [
      "Anzahl Transaktionen ohne zugeordneten Store: 0\n"
     ]
    }
   ],
   "source": [
    "fehlende_stores = joined_df[\"opening_date\"].isnull().sum()\n",
    "print(f\"Anzahl Transaktionen ohne zugeordneten Store: {fehlende_stores}\")"
   ]
  }
 ],
 "metadata": {
  "kernelspec": {
   "display_name": "Python 3",
   "language": "python",
   "name": "python3"
  },
  "language_info": {
   "codemirror_mode": {
    "name": "ipython",
    "version": 3
   },
   "file_extension": ".py",
   "mimetype": "text/x-python",
   "name": "python",
   "nbconvert_exporter": "python",
   "pygments_lexer": "ipython3",
   "version": "3.11.5"
  }
 },
 "nbformat": 4,
 "nbformat_minor": 5
}

{
 "cells": [
  {
   "cell_type": "markdown",
   "id": "07465794",
   "metadata": {},
   "source": [
    "Datenmodell"
   ]
  },
  {
   "cell_type": "code",
   "execution_count": 9,
   "id": "7b66bd30",
   "metadata": {},
   "outputs": [
    {
     "ename": "SyntaxError",
     "evalue": "unterminated string literal (detected at line 54) (968268865.py, line 54)",
     "output_type": "error",
     "traceback": [
      "\u001b[1;36m  Cell \u001b[1;32mIn[9], line 54\u001b[1;36m\u001b[0m\n\u001b[1;33m    ' Relationships\u001b[0m\n\u001b[1;37m    ^\u001b[0m\n\u001b[1;31mSyntaxError\u001b[0m\u001b[1;31m:\u001b[0m unterminated string literal (detected at line 54)\n"
     ]
    }
   ],
   "source": [
    "@startuml\n",
    "hide circle\n",
    "hide members\n",
    "show fields\n",
    "\n",
    "class \"Stores\" as s {\n",
    "  * **id <<PK>>**\n",
    "  * opening_date\n",
    "  * location\n",
    "  * state\n",
    "  * urbanization\n",
    "  * sco_introduction\n",
    "}\n",
    "\n",
    "class \"Products\" as p {\n",
    "  * <color:Tomato>**id <<PK>>**</color>\n",
    "  * **base_product_id <<FK>>**\n",
    "  * category\n",
    "  * price\n",
    "  * popularity\n",
    "  * valid_from\n",
    "  * valid_to\n",
    "  * sold_by_weight\n",
    "  * weight\n",
    "  * age_restricted\n",
    "}\n",
    "\n",
    "class \"Transactions\" as t {\n",
    "  * <color:Tomato>**id <<PK>>**</color>\n",
    "  * **store_id <<FK>>**\n",
    "  * cash_desk\n",
    "  * transaction_start\n",
    "  * transaction_end\n",
    "  * total_amount\n",
    "  * n_lines\n",
    "  * payment_medium\n",
    "  * customer_feedback\n",
    "  * damage\n",
    "  * label\n",
    "}\n",
    "\n",
    "class \"Transaction Lines\" as tl {\n",
    "  * <color:Tomato>**id <<CK>>**</color>\n",
    "  * <color:Tomato>**transaction_id <<CK>>**</color>\n",
    "  * **product_id <<FK>>**\n",
    "  * timestamp\n",
    "  * pieces_or_weight\n",
    "  * sales_price\n",
    "  * was_voided\n",
    "  * camera_product_similar\n",
    "  * camera_certainty\n",
    "}\n",
    "\n",
    "' Relationships\n",
    "p \"1\" -- \"0..*\" p : has >\n",
    "s \"1\" -- \"0..*\" t : has >\n",
    "p \"1\" -- \"0..*\" tl : is sold in >\n",
    "t \"1\" -- \"0..*\" tl : contains >\n",
    "\n",
    "@enduml\n"
   ]
  }
 ],
 "metadata": {
  "kernelspec": {
   "display_name": "Python 3",
   "language": "python",
   "name": "python3"
  },
  "language_info": {
   "codemirror_mode": {
    "name": "ipython",
    "version": 3
   },
   "file_extension": ".py",
   "mimetype": "text/x-python",
   "name": "python",
   "nbconvert_exporter": "python",
   "pygments_lexer": "ipython3",
   "version": "3.11.5"
  }
 },
 "nbformat": 4,
 "nbformat_minor": 5
}

{
 "cells": [
  {
   "cell_type": "markdown",
   "id": "07465794",
   "metadata": {},
   "source": [
    "# Datenmodell"
   ]
  },
  {
   "cell_type": "code",
   "execution_count": null,
   "id": "7b66bd30",
   "metadata": {},
   "outputs": [],
   "source": [
    "@startuml\n",
    "hide circle\n",
    "hide members\n",
    "show fields\n",
    "\n",
    "class \"Transactions_cleaned\" as t {\n",
    "  * **id <<PK>>**\n",
    "  * store_id\n",
    "  * total_amount\n",
    "  * n_lines\n",
    "  * payment_medium\n",
    "  * customer_feedback\n",
    "  * damage\n",
    "  * label\n",
    "  * location\n",
    "  * state\n",
    "  * urbanization\n",
    "  * sco_introduction\n",
    "  * cash_desk_0\n",
    "  * cash_desk_1\n",
    "  * cash_desk_2\n",
    "  * cash_desk_3\n",
    "  * ft_month\n",
    "  * ft_day\n",
    "  * ft_duration_seconds\n",
    "}\n",
    "\n",
    "class \"Lines cleaned\" as tl {\n",
    "  * <color:Tomato>**id <<CK>>**</color>\n",
    "  * **transaction_id <<FK>>**\n",
    "  * product_id\n",
    "  * timestamp\n",
    "  * pieces_or_weight\n",
    "  * sales_price\n",
    "  * was_voided\n",
    "  * camera_product_similar\n",
    "  * camera_certainty\n",
    "  * base_product_id\n",
    "  * category\n",
    "  * price\n",
    "  * popularity\n",
    "  * valid_from\n",
    "  * valid_to\n",
    "  * sold_by_weight\n",
    "  * weight\n",
    "  * age_restricted\n",
    "}\n",
    "\n",
    "' Relationships\n",
    "tl \"1\" -- \"1\" tl : has original >\n",
    "t \"1\" -- \"1..*\" tl : contains >\n",
    "\n",
    "@enduml\n"
   ]
  }
 ],
 "metadata": {
  "kernelspec": {
   "display_name": "Python 3",
   "language": "python",
   "name": "python3"
  },
  "language_info": {
   "codemirror_mode": {
    "name": "ipython",
    "version": 3
   },
   "file_extension": ".py",
   "mimetype": "text/x-python",
   "name": "python",
   "nbconvert_exporter": "python",
   "pygments_lexer": "ipython3",
   "version": "3.11.5"
  }
 },
 "nbformat": 4,
 "nbformat_minor": 5
}
